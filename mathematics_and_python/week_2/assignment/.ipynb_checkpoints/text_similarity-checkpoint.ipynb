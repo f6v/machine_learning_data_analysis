{
 "cells": [
  {
   "cell_type": "code",
   "execution_count": 72,
   "metadata": {
    "collapsed": true
   },
   "outputs": [],
   "source": [
    "import re\n",
    "import numpy as np\n",
    "from scipy.spatial.distance import cosine"
   ]
  },
  {
   "cell_type": "markdown",
   "metadata": {},
   "source": [
    "### Read file"
   ]
  },
  {
   "cell_type": "code",
   "execution_count": 92,
   "metadata": {
    "collapsed": false
   },
   "outputs": [],
   "source": [
    "sentences_file = open('sentences.txt', 'r')\n",
    "sentences = sentences_file.readlines()\n",
    "# print sentences"
   ]
  },
  {
   "cell_type": "markdown",
   "metadata": {},
   "source": [
    "### Convert to lower case"
   ]
  },
  {
   "cell_type": "code",
   "execution_count": 93,
   "metadata": {
    "collapsed": false
   },
   "outputs": [],
   "source": [
    "lower_sentences = map(str.lower, sentences)\n",
    "# print(lower_sentences)"
   ]
  },
  {
   "cell_type": "markdown",
   "metadata": {},
   "source": [
    "### Split sentences into tokens"
   ]
  },
  {
   "cell_type": "code",
   "execution_count": 94,
   "metadata": {
    "collapsed": false
   },
   "outputs": [],
   "source": [
    "tokenized_sentences = map(lambda s: re.split('[^a-z]', s), lower_sentences)\n",
    "tokenized_sentences = [filter(None, sentece_tokens) for sentece_tokens in tokenized_sentences]\n",
    "# print(tokenized_sentences)"
   ]
  },
  {
   "cell_type": "markdown",
   "metadata": {},
   "source": [
    "### Get unique words"
   ]
  },
  {
   "cell_type": "code",
   "execution_count": 95,
   "metadata": {
    "collapsed": false
   },
   "outputs": [],
   "source": [
    "unique_words = []\n",
    "for sentence_tokens in tokenized_sentences:\n",
    "    for token in sentence_tokens:\n",
    "        if not token in unique_words:\n",
    "            unique_words.append(token)\n",
    "            \n",
    "# print(unique_words)"
   ]
  },
  {
   "cell_type": "code",
   "execution_count": 68,
   "metadata": {
    "collapsed": false
   },
   "outputs": [],
   "source": [
    "words_in_sentences = np.zeros([len(tokenized_sentences), len(unique_words)])\n",
    "\n",
    "for word_index in xrange(len(unique_words)):\n",
    "    for sentence_index in xrange(len(tokenized_sentences)):\n",
    "        word = unique_words[word_index]\n",
    "        sentence = tokenized_sentences[sentence_index]\n",
    "        num_occurances = sentence.count(word)\n",
    "        words_in_sentences[sentence_index, word_index] = num_occurances"
   ]
  },
  {
   "cell_type": "markdown",
   "metadata": {},
   "source": [
    "### Calculate distances"
   ]
  },
  {
   "cell_type": "code",
   "execution_count": 91,
   "metadata": {
    "collapsed": false
   },
   "outputs": [],
   "source": [
    "distances = [cosine(words_in_sentences[0,], sentence) for sentence in words_in_sentences]\n",
    "sorted_distance = sorted(distances)"
   ]
  },
  {
   "cell_type": "code",
   "execution_count": 83,
   "metadata": {
    "collapsed": false
   },
   "outputs": [],
   "source": [
    "closest_index = distances.index(sorted_distance[1])\n",
    "second_closest_index = distances.index(sorted_distance[2])"
   ]
  },
  {
   "cell_type": "code",
   "execution_count": 87,
   "metadata": {
    "collapsed": false
   },
   "outputs": [
    {
     "name": "stdout",
     "output_type": "stream",
     "text": [
      "6 4\n",
      "Domestic cats are similar in size to the other members of the genus Felis, typically weighing between 4 and 5 kg (8.8 and 11.0 lb).\n",
      "\n",
      "In one, people deliberately tamed cats in a process of artificial selection, as they were useful predators of vermin.\n",
      "\n"
     ]
    }
   ],
   "source": [
    "print(\"%d %d\" % (closest_index, second_closest_index))\n",
    "\n",
    "print(sentences[closest_index])\n",
    "print(sentences[second_closest_index])"
   ]
  },
  {
   "cell_type": "markdown",
   "metadata": {},
   "source": [
    "### Save result"
   ]
  },
  {
   "cell_type": "code",
   "execution_count": 88,
   "metadata": {
    "collapsed": true
   },
   "outputs": [],
   "source": [
    "result_file = open('submission_1.txt', 'w')\n",
    "result_file.write(\"%d %d\" % (closest_index, second_closest_index))\n",
    "result_file.close()"
   ]
  }
 ],
 "metadata": {
  "kernelspec": {
   "display_name": "Python [conda env:py27]",
   "language": "python",
   "name": "conda-env-py27-py"
  },
  "language_info": {
   "codemirror_mode": {
    "name": "ipython",
    "version": 2
   },
   "file_extension": ".py",
   "mimetype": "text/x-python",
   "name": "python",
   "nbconvert_exporter": "python",
   "pygments_lexer": "ipython2",
   "version": "2.7.12"
  }
 },
 "nbformat": 4,
 "nbformat_minor": 1
}
